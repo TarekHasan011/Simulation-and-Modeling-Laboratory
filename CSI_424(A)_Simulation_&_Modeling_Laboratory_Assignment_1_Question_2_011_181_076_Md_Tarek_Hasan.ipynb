{
  "nbformat": 4,
  "nbformat_minor": 0,
  "metadata": {
    "colab": {
      "name": "CSI 424(A) Simulation & Modeling Laboratory :: Assignment 1 :: Question 2 :: 011 181 076 - Md. Tarek Hasan.ipynb",
      "provenance": [],
      "collapsed_sections": [],
      "authorship_tag": "ABX9TyMLI/jcd7+xRB1WYPHC3hM8",
      "include_colab_link": true
    },
    "kernelspec": {
      "name": "python3",
      "display_name": "Python 3"
    },
    "language_info": {
      "name": "python"
    }
  },
  "cells": [
    {
      "cell_type": "markdown",
      "metadata": {
        "id": "view-in-github",
        "colab_type": "text"
      },
      "source": [
        "<a href=\"https://colab.research.google.com/github/TarekHasan011/Simulation-and-Modeling-Laboratory/blob/main/CSI_424(A)_Simulation_%26_Modeling_Laboratory_Assignment_1_Question_2_011_181_076_Md_Tarek_Hasan.ipynb\" target=\"_parent\"><img src=\"https://colab.research.google.com/assets/colab-badge.svg\" alt=\"Open In Colab\"/></a>"
      ]
    },
    {
      "cell_type": "code",
      "metadata": {
        "id": "Ae9uBsjwrDPr"
      },
      "source": [
        "import matplotlib.pyplot as plt\n",
        "import numpy as np\n",
        "import math"
      ],
      "execution_count": null,
      "outputs": []
    },
    {
      "cell_type": "code",
      "metadata": {
        "id": "l9h-O8ugt45a"
      },
      "source": [
        "def f(x):\n",
        "    return ((2 * (x ** 3)) + 9)"
      ],
      "execution_count": null,
      "outputs": []
    },
    {
      "cell_type": "code",
      "metadata": {
        "id": "e6ieuu78rKNo"
      },
      "source": [
        "def Task_a(trials):\n",
        "    plt.clf()\n",
        "    # drawing the curve, equation y = 2x^3 + 9\n",
        "    x = np.arange(3,5,0.0001)\n",
        "    y = ((2 * (x ** 3)) + 9)\n",
        "    plt.plot(x,y,color='blue')\n",
        "\n",
        "    # drawing a box for better visualization\n",
        "    y = np.arange(0,259,0.0001)\n",
        "    plt.plot(x,x*0,color='black')\n",
        "    plt.plot(x,(x*0)+259,color='black')\n",
        "\n",
        "    plt.plot((y*0)+3,y,color='black')\n",
        "    plt.plot((y*0)+5,y,color='black')\n",
        "\n",
        "    hit_x = []\n",
        "    hit_y = []\n",
        "    miss_x = []\n",
        "    miss_y = []\n",
        "\n",
        "    hit = 0\n",
        "\n",
        "    for i in range(trials):\n",
        "        X_rand = np.random.uniform(3,5)\n",
        "        Y_rand = np.random.uniform(0,259)\n",
        "\n",
        "        if Y_rand <= f(X_rand):\n",
        "            hit+=1\n",
        "            hit_x.append(X_rand)\n",
        "            hit_y.append(Y_rand)\n",
        "        else:\n",
        "            miss_x.append(X_rand)\n",
        "            miss_y.append(Y_rand)\n",
        "    plt.scatter(hit_x,hit_y,color='green')\n",
        "    plt.scatter(miss_x,miss_y,color='red')\n",
        "    print(f'Integration value : {(259*2*hit)/trials}')\n",
        "    plt.show()"
      ],
      "execution_count": null,
      "outputs": []
    },
    {
      "cell_type": "code",
      "metadata": {
        "colab": {
          "base_uri": "https://localhost:8080/",
          "height": 300
        },
        "id": "oA7dH8fUrwdF",
        "outputId": "52617765-8c2b-46c4-9526-8854427bbd26"
      },
      "source": [
        "Task_a(int(input()))"
      ],
      "execution_count": null,
      "outputs": [
        {
          "output_type": "stream",
          "text": [
            "10000\n",
            "Integration value : 290.9606\n"
          ],
          "name": "stdout"
        },
        {
          "output_type": "display_data",
          "data": {
            "image/png": "[encoded data removed]",
            "text/plain": [
              "<Figure size 432x288 with 1 Axes>"
            ]
          },
          "metadata": {
            "tags": [],
            "needs_background": "light"
          }
        }
      ]
    }
  ]
}