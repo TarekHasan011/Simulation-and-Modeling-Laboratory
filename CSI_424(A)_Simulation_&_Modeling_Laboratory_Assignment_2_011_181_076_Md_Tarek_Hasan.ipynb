{
  "nbformat": 4,
  "nbformat_minor": 0,
  "metadata": {
    "colab": {
      "name": "CSI 424(A) Simulation & Modeling Laboratory :: Assignment 2 :: 011 181 076 - Md. Tarek Hasan.ipynb",
      "provenance": [],
      "authorship_tag": "ABX9TyNgAuxJZPDAiAphaKluWdvQ",
      "include_colab_link": true
    },
    "kernelspec": {
      "name": "python3",
      "display_name": "Python 3"
    },
    "language_info": {
      "name": "python"
    }
  },
  "cells": [
    {
      "cell_type": "markdown",
      "metadata": {
        "id": "view-in-github",
        "colab_type": "text"
      },
      "source": [
        "<a href=\"https://colab.research.google.com/github/TarekHasan011/Simulation-and-Modeling-Laboratory/blob/main/CSI_424(A)_Simulation_%26_Modeling_Laboratory_Assignment_2_011_181_076_Md_Tarek_Hasan.ipynb\" target=\"_parent\"><img src=\"https://colab.research.google.com/assets/colab-badge.svg\" alt=\"Open In Colab\"/></a>"
      ]
    },
    {
      "cell_type": "markdown",
      "metadata": {
        "id": "1kTeZet3uu15"
      },
      "source": [
        "# Problem name: Pure pursuit problem\n",
        "**Problem description:**\n",
        "A fighter aircraft sights an enemy bomber and flies directly toward it, in order to catch up and destroy it. We have to determine whether the fighter aircraft can catch/destroy the enemy bomber or not within a given time.\n"
      ]
    },
    {
      "cell_type": "code",
      "metadata": {
        "id": "fU4J4aPCwL5y"
      },
      "source": [
        "import math\n",
        "def euclidean_distance(x1, y1, x2, y2):\n",
        "    return math.sqrt(((x1-x2) ** 2) + ((y1-y2) ** 2))"
      ],
      "execution_count": null,
      "outputs": []
    },
    {
      "cell_type": "code",
      "metadata": {
        "id": "5RLdCWIGuWQ4"
      },
      "source": [
        "import matplotlib.pyplot as plt\n",
        "\n",
        "def task_one(X_fighter, Y_fighter, X_enemy, Y_enemy, V_fighter, V_enemy, attack_distance, time_limit, deltaT):\n",
        "    caught_distance = math.inf\n",
        "    \n",
        "    fighter_X = []\n",
        "    fighter_Y = []\n",
        "\n",
        "    enemy_X = []\n",
        "    enemy_Y = []\n",
        "\n",
        "    for i in range(0, time_limit+1, deltaT):\n",
        "        fighter_X.append(X_fighter)\n",
        "        fighter_Y.append(Y_fighter)\n",
        "\n",
        "        enemy_X.append(X_enemy)\n",
        "        enemy_Y.append(Y_enemy)\n",
        "\n",
        "        D = euclidean_distance(X_fighter, Y_fighter, X_enemy, Y_enemy)\n",
        "        if  D <= attack_distance:\n",
        "            # print(i)\n",
        "            caught_distance = D\n",
        "            break\n",
        "        X_fighter = X_fighter + (V_fighter * deltaT * ((X_enemy - X_fighter) / D))\n",
        "        Y_fighter = Y_fighter + (V_fighter * deltaT * ((Y_enemy - Y_fighter) / D))\n",
        "        \n",
        "        X_enemy = X_enemy - (V_enemy*deltaT)\n",
        "    \n",
        "    plt.clf()\n",
        "    plt.scatter(enemy_X,enemy_Y,color='Lime')\n",
        "    plt.scatter(fighter_X,fighter_Y,color='red')\n",
        "    plt.show()\n",
        "\n",
        "    # print(f'Fighter: ({X_fighter}, {Y_fighter}) Enemy: ({X_enemy}, {Y_enemy})')\n",
        "\n",
        "    if caught_distance < math.inf:\n",
        "        print(f'defense A attacked enemy B with distance {round(caught_distance,2)} m.')\n",
        "    else:\n",
        "        print('defense A didn’t attack enemy B.')\n"
      ],
      "execution_count": null,
      "outputs": []
    },
    {
      "cell_type": "markdown",
      "metadata": {
        "id": "iJAs37mbvxwx"
      },
      "source": [
        "![test.png](data:image/png;base64,iVBORw0KGgoAAAANSUhEUgAAAQEAAAB6CAIAAAAwHHEcAAAAAXNSR0IArs4c6QAAAARnQU1BAACxjwv8YQUAAAAJcEhZcwAADsMAAA7DAcdvqGQAAAScSURBVHhe7dlfa1RHHMbxfS95MfsiCr0reC4EKRRvBKEIstAboTdFKorgptgiaqhYQotde6FYEcUQ1E1j479qkjYSSQ2bxIfONG52Nybumd0zM7/vBwm759ye78nksbYF2EYDsI4GYB0NwDoagHU0AOtoANbRAKyjAVhHA7COBmAdDcA6GoB1NADraADW0QCsowFYRwOIXbPZrO3UarX8vRBoALFzDbTbbfe1KIrur+XRAGLX04A+6Ksuuq/l0QBiRwPI00/3l27Nv15Y/rezsekv7WLgWch9DoIGUI0T0wufnLyvf59+O3P4+0f6qh78vZ1cA90ajYa/FwINoBpX7i25Bty/87f+8jf6DDwL1et197U8GsBYzT5/o8f9i/OPDk0+0G8AF4B68LcH6WlA9Hug50oZNICRW1vf0NH/5K9PD5ydPXpx7sLtV/OLa7p+/Md5ZfDhAIQGkKql1fVfZv/+6uqfn52Z1U991hV/7z/TM8s35lb8l91xFkJi9I7Xm17ve7319e7XbwD9HvD3htL/N3FRFP5eCDSAADobm/eerJ7+7blO+Trr68Svc7+/Fz0awPDevO1cf/jP1z8v6LRzbGpeJ/sXK2/9vXTQAD6aHnQ97nro9egrAGWgGPy9BNEA9qt71tSxR4efPf+LNwk0gA/ZbdbMCQ1ggD1nzZzQAN4LPmsmgQasS3rWDIIGjMpj1gyCBmzRgz51dzGbWTMIGjBBx5vJmxnOmkHQQLbcrPnNtZxnzSBoIDdu1mxceWxh1gyCBjLhZs0jF2zNmkHQQMLWO37WPHjO6KwZBA2k5/Uas2ZINJAMZs0RoYHYMWuOGg3EiFlznGggIsyalaCB6jFrVosGqsGsGQ8aGCtmzQjRwDgwa8aMBkaIWTMJNBAYs2ZyaCAMZs100UApzJoZoIGPxqyZGRrYL2bNXNHAHpg1s0cDgzFr2kED7zFr2kQDO2ZN/WTWtMZuA92zpt79zJpm2WqgZ9bUiZ9ZEyYa6Jk1p+4uMmtiW84NuFnzy8t/bM+aisHfA/6XWwOdjU03a37+3UMdeNysqSOQvw30yaQB/Tl7Y27FzZr6M5dZE/uXdgNLq+vTM8vMmigjyQb0jv/h95fMmggimQbcrHnq+jNmTYQVewNu1jwxzayJUYm0AWZNjE1EDTBrohLVN8CsiWpV1gCzJiIx7gaYNRGbcTTArImYjaOBS3deMWsiWtX/TQxUiwZgHQ3AOhqAdTQA62gA1tEArKMBWEcDsC5AA/V6vVarNRoN/x1IStkG2u22AlAGExMT/hKQlLIN6PWvAFqtlkrQT38VSEfZBvT6bzab7kNRFO4ikJBSDbjXv45D+qwA9NldBxJS6qnVc6+DkPvsenC/E4CElGpAD333HKTj0HYSQCqGb0CvfDXQzx2NgFQM34Be+T1vfbeT8h8FSMuQDbjHvf/0z3EIyRmyAb3s1YD/0sVd5ziEhAx/FgLyQAOwjgZgHQ3AOhqAdTQA62gA1tEArKMBWEcDsI4GYB0NwDoagHU0AOtoANbRAKyjAVhHA7COBmAdDcA6GoB1NADraAC2bW29A8AlO4eH7GGxAAAAAElFTkSuQmCC)"
      ]
    },
    {
      "cell_type": "code",
      "metadata": {
        "colab": {
          "base_uri": "https://localhost:8080/",
          "height": 283
        },
        "id": "IkLdI-AMyo9y",
        "outputId": "629c757b-aa25-4623-bb99-9a6ccf533085"
      },
      "source": [
        "task_one(0,0,10000,10000,60,50,1000,300,2)"
      ],
      "execution_count": null,
      "outputs": [
        {
          "output_type": "display_data",
          "data": {
            "image/png": "[encoded data removed]",
            "text/plain": [
              "<Figure size 432x288 with 1 Axes>"
            ]
          },
          "metadata": {
            "needs_background": "light"
          }
        },
        {
          "output_type": "stream",
          "name": "stdout",
          "text": [
            "defense A attacked enemy B with distance 997.17 m.\n"
          ]
        }
      ]
    },
    {
      "cell_type": "code",
      "metadata": {
        "colab": {
          "base_uri": "https://localhost:8080/",
          "height": 283
        },
        "id": "bjTyZeCQ0LOK",
        "outputId": "88d977ea-48a9-4fb3-f835-73c8d1e77ef0"
      },
      "source": [
        "task_one(10,20,10000,5000,50,50,1500,600,2)"
      ],
      "execution_count": null,
      "outputs": [
        {
          "output_type": "display_data",
          "data": {
            "image/png": "[encoded data removed]",
            "text/plain": [
              "<Figure size 432x288 with 1 Axes>"
            ]
          },
          "metadata": {
            "needs_background": "light"
          }
        },
        {
          "output_type": "stream",
          "name": "stdout",
          "text": [
            "defense A attacked enemy B with distance 1452.84 m.\n"
          ]
        }
      ]
    },
    {
      "cell_type": "code",
      "metadata": {
        "id": "rCeochmm3AIQ"
      },
      "source": [
        "import matplotlib.pyplot as plt\n",
        "\n",
        "def task_two(X_A, Y_A, X_B, Y_B, X_C, Y_C, X_D, Y_D, V_A, V_B, V_C, V_D, attack_distance, time_limit, deltaT):\n",
        "    caught_distance = (math.inf,'','')\n",
        "\n",
        "    A_X = []\n",
        "    A_Y = []\n",
        "\n",
        "    B_X = []\n",
        "    B_Y = []\n",
        "\n",
        "    C_X = []\n",
        "    C_Y = []\n",
        "\n",
        "    D_X = []\n",
        "    D_Y = []\n",
        "\n",
        "    for i in range(0, time_limit+1, deltaT):\n",
        "        A_X.append(X_A)\n",
        "        A_Y.append(Y_A)\n",
        "\n",
        "        B_X.append(X_B)\n",
        "        B_Y.append(Y_B)\n",
        "\n",
        "        C_X.append(X_C)\n",
        "        C_Y.append(Y_C)\n",
        "\n",
        "        D_X.append(X_D)\n",
        "        D_Y.append(Y_D)\n",
        "\n",
        "        D_AtoB = euclidean_distance(X_A, Y_A, X_B, Y_B)\n",
        "        D_BtoC = euclidean_distance(X_B, Y_B, X_C, Y_C)\n",
        "        D_CtoD = euclidean_distance(X_C, Y_C, X_D, Y_D)\n",
        "\n",
        "        if D_AtoB <= attack_distance:\n",
        "            caught_distance = (D_AtoB,'A','B')\n",
        "            break\n",
        "        if D_BtoC <= attack_distance:\n",
        "            caught_distance = (D_BtoC,'B','C')\n",
        "            break\n",
        "        if D_CtoD <= attack_distance:\n",
        "            caught_distance = (D_CtoD,'C','D')\n",
        "            break\n",
        "\n",
        "        X_A += ((V_A*deltaT) * ((X_B - X_A) / D_AtoB)) \n",
        "        Y_A += ((V_A*deltaT) * ((Y_B - Y_A) / D_AtoB))\n",
        "\n",
        "        X_B += ((V_B*deltaT) * ((X_C - X_B) / D_BtoC)) \n",
        "        Y_B += ((V_B*deltaT) * ((Y_C - Y_B) / D_BtoC)) \n",
        "\n",
        "        X_C += ((V_C*deltaT) * ((X_D - X_C) / D_CtoD)) \n",
        "        Y_C += ((V_C*deltaT) * ((Y_D - Y_C) / D_CtoD)) \n",
        "\n",
        "        X_D -= (V_D * deltaT)\n",
        "    plt.clf()\n",
        "    plt.scatter(D_X, D_Y, color='Magenta')\n",
        "    plt.scatter(C_X, C_Y, color='blue')\n",
        "    plt.scatter(B_X, B_Y, color='Lime')\n",
        "    plt.scatter(A_X, A_Y, color='red')\n",
        "    plt.show()\n",
        "\n",
        "    \n",
        "    if caught_distance[0] < math.inf:\n",
        "        print(f'{caught_distance[1]} attacked {caught_distance[2]} with position {round(caught_distance[0],2)} m')\n",
        "    else:\n",
        "        print('No attack occurred....')\n"
      ],
      "execution_count": null,
      "outputs": []
    },
    {
      "cell_type": "markdown",
      "metadata": {
        "id": "pqJ6pEdmCDuC"
      },
      "source": [
        "![test.png](data:image/png;base64,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)"
      ]
    },
    {
      "cell_type": "code",
      "metadata": {
        "colab": {
          "base_uri": "https://localhost:8080/",
          "height": 283
        },
        "id": "uPo11RlW9g_K",
        "outputId": "62a0a3c7-a920-48ea-803c-f8161ea01d48"
      },
      "source": [
        "task_two(0,1000,12000,2000,10000,10000,5000,15000,60,60,60,60,1000,300,2)"
      ],
      "execution_count": null,
      "outputs": [
        {
          "output_type": "display_data",
          "data": {
            "image/png": "[encoded data removed]",
            "text/plain": [
              "<Figure size 432x288 with 1 Axes>"
            ]
          },
          "metadata": {
            "needs_background": "light"
          }
        },
        {
          "output_type": "stream",
          "name": "stdout",
          "text": [
            "No attack occurred....\n"
          ]
        }
      ]
    }
  ]
}