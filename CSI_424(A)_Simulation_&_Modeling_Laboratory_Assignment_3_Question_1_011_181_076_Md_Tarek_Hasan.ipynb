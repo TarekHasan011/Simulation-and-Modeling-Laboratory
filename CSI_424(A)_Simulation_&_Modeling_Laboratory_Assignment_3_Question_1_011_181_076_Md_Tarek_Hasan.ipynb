{
  "nbformat": 4,
  "nbformat_minor": 0,
  "metadata": {
    "colab": {
      "name": "CSI 424(A) Simulation & Modeling Laboratory :: Assignment 3 :: Question 1 :: 011 181 076 - Md. Tarek Hasan.ipynb",
      "provenance": [],
      "authorship_tag": "ABX9TyNzqo4jOyLyHKigU7vz1JYF",
      "include_colab_link": true
    },
    "kernelspec": {
      "name": "python3",
      "display_name": "Python 3"
    },
    "language_info": {
      "name": "python"
    }
  },
  "cells": [
    {
      "cell_type": "markdown",
      "metadata": {
        "id": "view-in-github",
        "colab_type": "text"
      },
      "source": [
        "<a href=\"https://colab.research.google.com/github/TarekHasan011/Simulation-and-Modeling-Laboratory/blob/main/CSI_424(A)_Simulation_%26_Modeling_Laboratory_Assignment_3_Question_1_011_181_076_Md_Tarek_Hasan.ipynb\" target=\"_parent\"><img src=\"https://colab.research.google.com/assets/colab-badge.svg\" alt=\"Open In Colab\"/></a>"
      ]
    },
    {
      "cell_type": "code",
      "metadata": {
        "id": "cP1hCPbUBcn4"
      },
      "source": [
        "def valid_index(i, j, n):\n",
        "    return bool(i>=0 and i<n and j>=0 and j<n)\n",
        "def alive_neighbours(state, i, j, n):\n",
        "    dx = [1, -1, 0, 0, -1, 1, -1, 1]\n",
        "    dy = [0, 0, 1, -1, -1, -1, 1, 1]\n",
        "    alive_count = 0\n",
        "    for it in range(len(dx)):\n",
        "        alive_count += int(valid_index(i + dx[it], j + dy[it], n) and state[i + dx[it]][j + dy[it]]==1)\n",
        "    return alive_count"
      ],
      "execution_count": null,
      "outputs": []
    },
    {
      "cell_type": "code",
      "metadata": {
        "id": "les1mvuAeIvA"
      },
      "source": [
        "def AliveOrDead(alive,no_of_alive_neighbours):\n",
        "    if alive:\n",
        "        if no_of_alive_neighbours in [2,3]:\n",
        "            return True\n",
        "        else:\n",
        "            return False\n",
        "    else:\n",
        "        if no_of_alive_neighbours == 3:\n",
        "            return True\n",
        "        else:\n",
        "            return False"
      ],
      "execution_count": null,
      "outputs": []
    },
    {
      "cell_type": "code",
      "metadata": {
        "id": "Zppq1ZHqdzBc"
      },
      "source": [
        "def next_generation(state, n):\n",
        "    next_state = []\n",
        "    for i in range(n):\n",
        "        next_state.append([])\n",
        "    \n",
        "    for i in range(len(state)):\n",
        "        for j in range(len(state[i])):\n",
        "            next_state[i].append(int(AliveOrDead(bool(state[i][j]),alive_neighbours(state,i,j,n))))\n",
        "    return next_state"
      ],
      "execution_count": null,
      "outputs": []
    },
    {
      "cell_type": "code",
      "metadata": {
        "id": "bRqcIOjQgPx8"
      },
      "source": [
        "def print_generation(state,generation_count):\n",
        "    print(f'Generation {generation_count}: ')\n",
        "    for i in range(len(state)):\n",
        "        for j in range(len(state[i])):\n",
        "            print(state[i][j], end=' ')\n",
        "        print()\n",
        "    return"
      ],
      "execution_count": null,
      "outputs": []
    },
    {
      "cell_type": "code",
      "metadata": {
        "id": "OVFhSd0WgHve"
      },
      "source": [
        "def Conway_s_Game_of_Life(state, no_of_generation):\n",
        "    for i in range(no_of_generation):\n",
        "        print_generation(state,i+1)\n",
        "        state = next_generation(state,len(state))\n",
        "    return"
      ],
      "execution_count": null,
      "outputs": []
    },
    {
      "cell_type": "code",
      "metadata": {
        "id": "h8-5iEGMcv1h"
      },
      "source": [
        "state = [\n",
        "         [0,0,0,0,0],\n",
        "         [0,0,1,1,1],\n",
        "         [0,1,1,1,0],\n",
        "         [0,0,0,0,0],\n",
        "         [0,0,0,0,0]\n",
        "]"
      ],
      "execution_count": null,
      "outputs": []
    },
    {
      "cell_type": "code",
      "metadata": {
        "colab": {
          "base_uri": "https://localhost:8080/"
        },
        "id": "ePbq4Faefviz",
        "outputId": "0bad8c51-82bd-47a4-8e99-08fd50bf0b82"
      },
      "source": [
        "Conway_s_Game_of_Life(state = state,no_of_generation=3)"
      ],
      "execution_count": null,
      "outputs": [
        {
          "output_type": "stream",
          "name": "stdout",
          "text": [
            "Generation 1: \n",
            "0 0 0 0 0 \n",
            "0 0 1 1 1 \n",
            "0 1 1 1 0 \n",
            "0 0 0 0 0 \n",
            "0 0 0 0 0 \n",
            "Generation 2: \n",
            "0 0 0 1 0 \n",
            "0 1 0 0 1 \n",
            "0 1 0 0 1 \n",
            "0 0 1 0 0 \n",
            "0 0 0 0 0 \n",
            "Generation 3: \n",
            "0 0 0 0 0 \n",
            "0 0 1 1 1 \n",
            "0 1 1 1 0 \n",
            "0 0 0 0 0 \n",
            "0 0 0 0 0 \n"
          ]
        }
      ]
    }
  ]
}