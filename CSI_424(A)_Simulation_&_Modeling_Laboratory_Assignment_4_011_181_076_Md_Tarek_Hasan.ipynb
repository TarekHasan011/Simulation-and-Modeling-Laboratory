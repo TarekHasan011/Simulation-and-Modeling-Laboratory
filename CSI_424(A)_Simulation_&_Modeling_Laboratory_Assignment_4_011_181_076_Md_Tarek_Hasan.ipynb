{
  "nbformat": 4,
  "nbformat_minor": 0,
  "metadata": {
    "colab": {
      "name": "CSI 424(A) Simulation & Modeling Laboratory :: Assignment 4 ::  011 181 076 - Md. Tarek Hasan.ipynb",
      "provenance": [],
      "collapsed_sections": [],
      "authorship_tag": "ABX9TyO3IpX3ZLGsMNmB7PfneS8h",
      "include_colab_link": true
    },
    "kernelspec": {
      "name": "python3",
      "display_name": "Python 3"
    },
    "language_info": {
      "name": "python"
    }
  },
  "cells": [
    {
      "cell_type": "markdown",
      "metadata": {
        "id": "view-in-github",
        "colab_type": "text"
      },
      "source": [
        "<a href=\"https://colab.research.google.com/github/TarekHasan011/Simulation-and-Modeling-Laboratory/blob/main/CSI_424(A)_Simulation_%26_Modeling_Laboratory_Assignment_4_011_181_076_Md_Tarek_Hasan.ipynb\" target=\"_parent\"><img src=\"https://colab.research.google.com/assets/colab-badge.svg\" alt=\"Open In Colab\"/></a>"
      ]
    },
    {
      "cell_type": "markdown",
      "metadata": {
        "id": "-RwKJHIwRzWd"
      },
      "source": [
        "# Inventory System Simulation"
      ]
    },
    {
      "cell_type": "code",
      "metadata": {
        "id": "i4G-DiFzzXx3"
      },
      "source": [
        "import numpy as np\n",
        "import csv"
      ],
      "execution_count": null,
      "outputs": []
    },
    {
      "cell_type": "code",
      "metadata": {
        "id": "kszmp_oImb_t"
      },
      "source": [
        "class Daily_Status():\n",
        "    def __init__(self,cycle,days,beginning_inventory,random_digit_for_demand,demand,ending_inventory,shortage_quantity,order_quantity,random_digit_for_lead_time,days_until_order_arrive):\n",
        "        self.cycle = cycle\n",
        "        self.days = days\n",
        "        self.beginning_inventory = beginning_inventory\n",
        "        self.random_digit_for_demand = random_digit_for_demand\n",
        "        self.demand = demand\n",
        "        self.ending_inventory = ending_inventory\n",
        "        self.shortage_quantity = shortage_quantity\n",
        "        self.order_quantity = order_quantity\n",
        "        self.random_digit_for_lead_time = random_digit_for_lead_time\n",
        "        self.days_until_order_arrive = days_until_order_arrive\n",
        "\n",
        "    def show(self):\n",
        "        print(f'{self.cycle} {self.days} {self.beginning_inventory} {self.random_digit_for_demand} {self.demand} {self.ending_inventory} {self.shortage_quantity} {self.order_quantity} {self.random_digit_for_lead_time} {self.days_until_order_arrive}')\n",
        "    def write(self,heading):\n",
        "        if heading:\n",
        "            f = open('inventory_system.csv','w',newline=\"\")\n",
        "            writer = csv.writer(f)\n",
        "            tup1 = (\"Cycle\",\"Days\", \"Beginning Inventory\", \"Random digit for demand\", \"Demand\", \"Ending inventory\", \"Shortage quantity\", \"Order quantity\",\"Random digit for lead time\", \"Days until order arrive\")\n",
        "            writer.writerow(tup1)\n",
        "            f.close()\n",
        "        f = open('inventory_system.csv','a',newline=\"\")\n",
        "        writer = csv.writer(f)\n",
        "        tup1 = (self.cycle, self.days, self.beginning_inventory, self.random_digit_for_demand, self.demand, self.ending_inventory, self.shortage_quantity, self.order_quantity, self.random_digit_for_lead_time, self.days_until_order_arrive)\n",
        "        writer.writerow(tup1)\n",
        "        f.close()\n",
        "\n",
        "class Inventory_System():\n",
        "    def __init__(self,N,M,simulation_days,initial_inventory,current_order='-',lead_time='-'):\n",
        "        self.random_number_for_demand = [24, 35, 65, 81, 54, 3, 87, 27, 73, 70, 47, 45, 48, 17, 9, 42, 87, 26, 36, 40, 7, 63, 19, 88, 94]\n",
        "        self.random_number_for_lead_time = [5, 0, 3, 4, 8]\n",
        "        self.N = N\n",
        "        self.M = M\n",
        "        self.simulation_days = simulation_days\n",
        "        self.initial_inventory = initial_inventory\n",
        "        self.current_order = current_order\n",
        "        self.lead_time = lead_time\n",
        "    \n",
        "    def random_digit_assignment_for_daily_demand(self,n):\n",
        "        if n>=1 and n<=10:\n",
        "            return 0\n",
        "        elif n>=11 and n<=35:\n",
        "            return 1\n",
        "        elif n>=36 and n<=70:\n",
        "            return 2\n",
        "        elif n>=71 and n<=91:\n",
        "            return 3\n",
        "        else:\n",
        "            return 4\n",
        "    \n",
        "    def random_digit_assignment_for_lead_time(self,n):\n",
        "        if n==0:\n",
        "            return 3\n",
        "        elif n>=1 and n<=6:\n",
        "            return 1\n",
        "        else:\n",
        "            return 2\n",
        "    \n",
        "    # test random numbers\n",
        "    def get_random_test_for_demand(self):\n",
        "        return self.random_number_for_demand.pop(0)\n",
        "    def get_random_test_for_lead_time(self):\n",
        "        return self.random_number_for_lead_time.pop(0)\n",
        "        \n",
        "\n",
        "    def run(self):\n",
        "        observations = []\n",
        "        shortage = 0\n",
        "        running_order = 0 if self.current_order == '-' else self.current_order\n",
        "\n",
        "        for day in range(1,self.simulation_days+1):\n",
        "            # random_digit_for_demand = np.random.randint(1,101)\n",
        "            random_digit_for_demand = self.get_random_test_for_demand()\n",
        "\n",
        "            random_digit_for_lead_time = '-'\n",
        "            if (day%self.N) == 0:\n",
        "                # random_digit_for_lead_time = np.random.randint(0,10)\n",
        "                random_digit_for_lead_time = self.get_random_test_for_lead_time()\n",
        "\n",
        "            cycle = ((day//self.N) + 1) if (day%self.N!=0) else (day//self.N)\n",
        "            days = (day%self.N)\n",
        "            if days == 0:\n",
        "                days = self.N\n",
        "\n",
        "            beginning_inventory = (self.initial_inventory + (self.current_order if self.lead_time==-1 else 0)) if day==1 else (observations[day-2].ending_inventory + (running_order if observations[day-2].days_until_order_arrive==0 else 0))\n",
        "\n",
        "            b_beginning_inventory = beginning_inventory\n",
        "\n",
        "            if shortage<=beginning_inventory:\n",
        "                beginning_inventory-=shortage\n",
        "                shortage = 0\n",
        "            else:\n",
        "                shortage-=beginning_inventory\n",
        "                beginning_inventory = 0\n",
        "\n",
        "            demand = self.random_digit_assignment_for_daily_demand(random_digit_for_demand)\n",
        "            ending_inventory = max(0,beginning_inventory-demand)\n",
        "            shortage_quantity = 0+shortage if beginning_inventory>=demand else (demand-beginning_inventory+shortage)\n",
        "            shortage = shortage_quantity\n",
        "\n",
        "            order_quantity = '-' \n",
        "            if days==self.N:\n",
        "                order_quantity = (self.M-ending_inventory)\n",
        "                running_order = order_quantity\n",
        "                \n",
        "\n",
        "            if day==1:\n",
        "                if self.lead_time!='-':\n",
        "                    lead_time = self.lead_time\n",
        "                else:\n",
        "                    lead_time = '-'\n",
        "            elif days==self.N:\n",
        "                lead_time = self.random_digit_assignment_for_lead_time(random_digit_for_lead_time)\n",
        "            else:\n",
        "                if observations[day-2].days_until_order_arrive!='-':\n",
        "                    lead_time = observations[day-2].days_until_order_arrive-1\n",
        "                    if lead_time<0:\n",
        "                        lead_time = '-'\n",
        "                else:\n",
        "                    lead_time = '-'\n",
        "            observations.append(Daily_Status(cycle if days==1 else '',days,b_beginning_inventory,random_digit_for_demand,demand,ending_inventory,shortage_quantity,order_quantity,random_digit_for_lead_time,lead_time))\n",
        "\n",
        "\n",
        "        heading = True\n",
        "\n",
        "        average_ending_inventory = 0\n",
        "        average_shortage_days = 0\n",
        "\n",
        "        for daily_status in observations: \n",
        "            daily_status.write(heading)\n",
        "            heading = False\n",
        "            average_ending_inventory += daily_status.ending_inventory\n",
        "            average_shortage_days += min(daily_status.shortage_quantity,1)\n",
        "\n",
        "        print(f'The average ending units in inventor: {average_ending_inventory/self.simulation_days}\\nThe average number of days when a shortage condition occurs: {average_shortage_days/self.simulation_days}')\n",
        "        return        \n",
        "        "
      ],
      "execution_count": null,
      "outputs": []
    },
    {
      "cell_type": "code",
      "metadata": {
        "colab": {
          "base_uri": "https://localhost:8080/"
        },
        "id": "DnHXJBxtGAJE",
        "outputId": "0bf441e8-1042-4c81-aad2-63d06915b638"
      },
      "source": [
        "obj = Inventory_System(N=5,M=11,simulation_days=25,initial_inventory=3,current_order=8,lead_time=1)\n",
        "obj.run()"
      ],
      "execution_count": null,
      "outputs": [
        {
          "output_type": "stream",
          "name": "stdout",
          "text": [
            "The average ending units in inventor: 3.52\n",
            "The average number of days when a shortage condition occurs: 0.08\n"
          ]
        }
      ]
    }
  ]
}