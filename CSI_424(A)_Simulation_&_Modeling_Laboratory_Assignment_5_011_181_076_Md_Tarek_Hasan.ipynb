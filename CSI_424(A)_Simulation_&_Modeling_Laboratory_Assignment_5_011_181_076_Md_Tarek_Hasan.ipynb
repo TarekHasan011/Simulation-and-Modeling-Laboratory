{
  "nbformat": 4,
  "nbformat_minor": 0,
  "metadata": {
    "colab": {
      "name": "CSI 424(A) Simulation & Modeling Laboratory :: Assignment 5 ::  011 181 076 - Md. Tarek Hasan.ipynb",
      "provenance": [],
      "collapsed_sections": [],
      "authorship_tag": "ABX9TyNPVNJyoOU3EhHqJ5T3B7wH",
      "include_colab_link": true
    },
    "kernelspec": {
      "name": "python3",
      "display_name": "Python 3"
    },
    "language_info": {
      "name": "python"
    }
  },
  "cells": [
    {
      "cell_type": "markdown",
      "metadata": {
        "id": "view-in-github",
        "colab_type": "text"
      },
      "source": [
        "<a href=\"https://colab.research.google.com/github/TarekHasan011/Simulation-and-Modeling-Laboratory/blob/main/CSI_424(A)_Simulation_%26_Modeling_Laboratory_Assignment_5_011_181_076_Md_Tarek_Hasan.ipynb\" target=\"_parent\"><img src=\"https://colab.research.google.com/assets/colab-badge.svg\" alt=\"Open In Colab\"/></a>"
      ]
    },
    {
      "cell_type": "markdown",
      "metadata": {
        "id": "Nhg7306KR_vP"
      },
      "source": [
        "# Random Number Generators"
      ]
    },
    {
      "cell_type": "code",
      "metadata": {
        "id": "AK4MNk0F1WqR"
      },
      "source": [
        "def Blum_Blum_Shub(p,q,seed,window_size,no_of_random_numbers):\n",
        "    m = p*q\n",
        "    random_numbers = []\n",
        "    temp = \"\"\n",
        "    for i in range(window_size*no_of_random_numbers):\n",
        "        seed = (seed**2)%m\n",
        "        temp+= (\"0\" if (bin(seed).count('1')%2 == 0) else \"1\")\n",
        "        if len(temp)==window_size:\n",
        "            random_numbers.append(int(temp,2))\n",
        "            temp = \"\"\n",
        "    return random_numbers"
      ],
      "execution_count": null,
      "outputs": []
    },
    {
      "cell_type": "code",
      "metadata": {
        "colab": {
          "base_uri": "https://localhost:8080/"
        },
        "id": "Grq5TAu3hHYn",
        "outputId": "32cb40fc-674d-425b-d53b-7ba42b8b474b"
      },
      "source": [
        "window_size = 4\n",
        "rand = Blum_Blum_Shub(p = 11,q = 19,seed = 3, window_size = window_size, no_of_random_numbers = 40)\n",
        "print(f'Random Numbers: {rand}')\n",
        "rand_ = []\n",
        "for i in rand:\n",
        "    rand_.append(i/(2**window_size))\n",
        "print(f'Random Numbers: {rand_}')"
      ],
      "execution_count": null,
      "outputs": [
        {
          "output_type": "stream",
          "name": "stdout",
          "text": [
            "Random Numbers: [6, 11, 11, 6, 11, 11, 6, 11, 11, 6, 11, 11, 6, 11, 11, 6, 11, 11, 6, 11, 11, 6, 11, 11, 6, 11, 11, 6, 11, 11, 6, 11, 11, 6, 11, 11, 6, 11, 11, 6]\n",
            "Random Numbers: [0.375, 0.6875, 0.6875, 0.375, 0.6875, 0.6875, 0.375, 0.6875, 0.6875, 0.375, 0.6875, 0.6875, 0.375, 0.6875, 0.6875, 0.375, 0.6875, 0.6875, 0.375, 0.6875, 0.6875, 0.375, 0.6875, 0.6875, 0.375, 0.6875, 0.6875, 0.375, 0.6875, 0.6875, 0.375, 0.6875, 0.6875, 0.375, 0.6875, 0.6875, 0.375, 0.6875, 0.6875, 0.375]\n"
          ]
        }
      ]
    }
  ]
}